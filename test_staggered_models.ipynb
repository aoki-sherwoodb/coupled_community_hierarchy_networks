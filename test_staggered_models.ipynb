{
 "cells": [
  {
   "cell_type": "code",
   "execution_count": 1,
   "id": "d2ccbaff",
   "metadata": {},
   "outputs": [
    {
     "name": "stderr",
     "output_type": "stream",
     "text": [
      "/Users/larremoreadmin/miniconda3/envs/networks/lib/python3.12/site-packages/tqdm/auto.py:21: TqdmWarning: IProgress not found. Please update jupyter and ipywidgets. See https://ipywidgets.readthedocs.io/en/stable/user_install.html\n",
      "  from .autonotebook import tqdm as notebook_tqdm\n"
     ]
    }
   ],
   "source": [
    "import numpy as np\n",
    "import matplotlib.pyplot as plt\n",
    "import networkx as nx\n",
    "\n",
    "from spring_embedding_models import SequentialHierarchyCommunitySimple"
   ]
  },
  {
   "cell_type": "code",
   "execution_count": 2,
   "id": "1827b498",
   "metadata": {},
   "outputs": [],
   "source": [
    "def load_labeled_network_and_get_largest_wcc(edge_file, node_file):\n",
    "    # Step 1: Read node labels\n",
    "    with open(node_file, 'r') as f:\n",
    "        node_labels = set(line.strip().split(',')[0] for line in f if line.strip())\n",
    "\n",
    "    # Step 2: Read edge list with labels directly\n",
    "    G = nx.read_edgelist(edge_file, create_using=nx.DiGraph(), nodetype=str, delimiter=',')\n",
    "    G = G.reverse(copy=True)\n",
    "\n",
    "    # Step 3: Filter to only valid nodes from node list\n",
    "    G = G.subgraph([n for n in G.nodes if n in node_labels]).copy()\n",
    "\n",
    "    # Step 4: Get largest weakly connected component\n",
    "    components = list(nx.weakly_connected_components(G))\n",
    "    largest_wcc = max(components, key=len)\n",
    "    G_wcc = G.subgraph(largest_wcc).copy()\n",
    "\n",
    "    return G_wcc"
   ]
  },
  {
   "cell_type": "code",
   "execution_count": 3,
   "id": "062a2c57",
   "metadata": {},
   "outputs": [],
   "source": [
    "G_wcc = load_labeled_network_and_get_largest_wcc('data/1998_fall_edge_list.csv', 'data/1998_fall_node_list.csv')\n",
    "node_list = list(G_wcc.nodes)\n",
    "A_wcc = nx.to_numpy_array(G_wcc, nodelist=node_list)"
   ]
  },
  {
   "cell_type": "code",
   "execution_count": null,
   "id": "d85bdcbb",
   "metadata": {},
   "outputs": [],
   "source": [
    "simple_model = SequentialHierarchyCommunitySimple(adj_matrix=A_wcc, embedding_dim=4, k=5, beta=1)\n",
    "simple_model.fit()"
   ]
  }
 ],
 "metadata": {
  "kernelspec": {
   "display_name": "networks",
   "language": "python",
   "name": "python3"
  },
  "language_info": {
   "codemirror_mode": {
    "name": "ipython",
    "version": 3
   },
   "file_extension": ".py",
   "mimetype": "text/x-python",
   "name": "python",
   "nbconvert_exporter": "python",
   "pygments_lexer": "ipython3",
   "version": "3.12.2"
  }
 },
 "nbformat": 4,
 "nbformat_minor": 5
}
