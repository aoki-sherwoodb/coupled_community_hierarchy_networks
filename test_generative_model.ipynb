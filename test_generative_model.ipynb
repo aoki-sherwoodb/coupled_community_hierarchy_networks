{
 "cells": [
  {
   "cell_type": "code",
   "execution_count": 12,
   "metadata": {},
   "outputs": [
    {
     "name": "stdout",
     "output_type": "stream",
     "text": [
      "The autoreload extension is already loaded. To reload it, use:\n",
      "  %reload_ext autoreload\n"
     ]
    }
   ],
   "source": [
    "%load_ext autoreload\n",
    "%autoreload 2\n",
    "import numpy as np\n",
    "import igraph\n",
    "import matplotlib.pyplot as plt\n",
    "\n",
    "from spring_embedding_model import SpringEmbeddingModel"
   ]
  },
  {
   "cell_type": "code",
   "execution_count": 24,
   "metadata": {},
   "outputs": [],
   "source": [
    "test_embeddings = np.array([\n",
    "    [1, 1.5],\n",
    "    [2.4, 2.4],\n",
    "    [3, 3],\n",
    "    [-1, -1],\n",
    "    [-2, -2],\n",
    "    [-3, -3]\n",
    "])"
   ]
  },
  {
   "cell_type": "code",
   "execution_count": 25,
   "metadata": {},
   "outputs": [],
   "source": [
    "gen_model = SpringEmbeddingModel(test_embeddings)\n",
    "gen_net = gen_model.generate(expected_num_edges=12)"
   ]
  },
  {
   "cell_type": "code",
   "execution_count": 22,
   "metadata": {},
   "outputs": [],
   "source": [
    "def visualize_graph_from_matrix(A, node_positions, ax=None):\n",
    "    \"\"\"\n",
    "    Visualizes the graph using igraph.\n",
    "    \"\"\"\n",
    "    g = igraph.Graph.Adjacency(A.tolist())\n",
    "    g.vs['label'] = [str(i) for i in range(len(g.vs))]\n",
    "    layout = igraph.Layout(node_positions)\n",
    "    if ax is None:\n",
    "        ax = plt.gca()\n",
    "    igraph.plot(g, layout=layout, vertex_label=g.vs['label'], vertex_size=10, target=ax)"
   ]
  },
  {
   "cell_type": "code",
   "execution_count": 26,
   "metadata": {},
   "outputs": [
    {
     "data": {
      "image/png": "[encoded data removed]",
      "text/plain": [
       "<Figure size 640x480 with 1 Axes>"
      ]
     },
     "metadata": {},
     "output_type": "display_data"
    }
   ],
   "source": [
    "visualize_graph_from_matrix(gen_net, test_embeddings)"
   ]
  },
  {
   "cell_type": "code",
   "execution_count": null,
   "metadata": {},
   "outputs": [],
   "source": []
  }
 ],
 "metadata": {
  "kernelspec": {
   "display_name": "networks",
   "language": "python",
   "name": "python3"
  },
  "language_info": {
   "codemirror_mode": {
    "name": "ipython",
    "version": 3
   },
   "file_extension": ".py",
   "mimetype": "text/x-python",
   "name": "python",
   "nbconvert_exporter": "python",
   "pygments_lexer": "ipython3",
   "version": "3.12.2"
  }
 },
 "nbformat": 4,
 "nbformat_minor": 2
}
